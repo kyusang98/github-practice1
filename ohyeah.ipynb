{
 "cells": [
  {
   "cell_type": "code",
   "execution_count": null,
   "metadata": {},
   "outputs": [],
   "source": [
    "#이 파일과 이 부분은 05/04 19:10에 윈도우 상에서 추가되었습니다. \n",
    "#visual code에서 만든 파일을 save해주지 않으면 add되지 않으므로 주의하세요!"
   ]
  }
 ],
 "metadata": {
  "language_info": {
   "name": "python"
  },
  "orig_nbformat": 4
 },
 "nbformat": 4,
 "nbformat_minor": 2
}
